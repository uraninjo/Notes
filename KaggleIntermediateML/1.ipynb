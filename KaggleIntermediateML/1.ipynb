{
 "cells": [
  {
   "cell_type": "code",
   "execution_count": null,
   "metadata": {},
   "outputs": [],
   "source": []
  }
 ],
 "metadata": {
  "kernelspec": {
   "display_name": "Python 3.10.5 64-bit",
   "language": "python",
   "name": "python3"
  },
  "language_info": {
   "name": "python",
   "version": "3.10.5"
  },
  "orig_nbformat": 4,
  "vscode": {
   "interpreter": {
    "hash": "cda057ccb0cb91c9ce59470e73901b3641e671a10f07be5ab4825eb80c5cbae8"
   }
  }
 },
 "nbformat": 4,
 "nbformat_minor": 2
}
