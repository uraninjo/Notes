{
 "cells": [
  {
   "cell_type": "code",
   "execution_count": null,
   "metadata": {},
   "outputs": [],
   "source": [
    "import numpy as np\n",
    "import matplotlib.pyplot as plt\n",
    "import pandas as pd\n",
    "import scipy as sc\n",
    "import seaborn as sbn\n",
    "from scipy.stats import norm\n",
    "from sklearn.preprocessing import StandardScaler\n",
    "from scipy import stats\n",
    "import warnings\n",
    "warnings.filterwarnings('ignore')\n",
    "%matplotlib inline\n",
    "\n",
    "df_train=pd.read_csv('train.csv')\n"
   ]
  },
  {
   "cell_type": "markdown",
   "metadata": {},
   "source": [
    "### nan Yüzdeleri"
   ]
  },
  {
   "cell_type": "markdown",
   "metadata": {},
   "source": [
    "total = df_train.isnull().sum().sort_values(ascending=False)\n",
    "percent = (df_train.isnull().sum()/df_train.isnull().count()).sort_values(ascending=False)\n",
    "missing_data = pd.concat([total, percent], axis=1, keys=['Total', 'Percent'])\n",
    "missing_data.head(20)"
   ]
  },
  {
   "cell_type": "markdown",
   "metadata": {},
   "source": [
    "### Normal Dağılım Kontrolü"
   ]
  },
  {
   "cell_type": "code",
   "execution_count": null,
   "metadata": {},
   "outputs": [],
   "source": [
    "sbn.distplot(df_train['SalePrice'], fit=norm)\n",
    "fig = plt.figure()\n",
    "res = stats.probplot(df_train['SalePrice'], plot=plt)\n",
    "print(\"Skewness: %f\" % df_train['SalePrice'].skew())\n",
    "print(\"Kurtosis: %f\" % df_train['SalePrice'].kurt())"
   ]
  },
  {
   "cell_type": "code",
   "execution_count": null,
   "metadata": {},
   "outputs": [],
   "source": [
    "from scipy import stats\n",
    "\n",
    "shap_t,shap_p = stats.shapiro(data_w['SalePrice'])\n",
    "\n",
    "print(\"Skewness: %f\" % abs(data_w['SalePrice']).skew())\n",
    "print(\"Kurtosis: %f\" % abs(data_w['SalePrice']).kurt())\n",
    "print(\"Shapiro_Test: %f\" % shap_t)\n",
    "print(\"Shapiro_Test: %f\" % shap_p)"
   ]
  },
  {
   "cell_type": "markdown",
   "metadata": {},
   "source": [
    "In literature, acceptable values for skewness are between -0.5 and 0.5 while -2 and 2 for Kurtosis. Looking at the plot, we can clearly see how the distribution does not seem to be normal, but highly right-skewed. The non-normality of our distribution is also supported by the Shapiro test for normality (p-value really small that allows us to reject the hypotesis of normality). Despite that, let's leave it like that for now, we'll deal with that later in the notebook. "
   ]
  },
  {
   "cell_type": "code",
   "execution_count": null,
   "metadata": {},
   "outputs": [],
   "source": [
    "#Normal Dağılıma Dönüşüm\n",
    "target_log = np.log1p(target)"
   ]
  },
  {
   "cell_type": "markdown",
   "metadata": {},
   "source": [
    "### Impute"
   ]
  },
  {
   "cell_type": "code",
   "execution_count": null,
   "metadata": {},
   "outputs": [],
   "source": [
    "def impute_knn(df):\n",
    "    ttn = train_test.select_dtypes(include=[np.number])\n",
    "    ttc = train_test.select_dtypes(exclude=[np.number])\n",
    "\n",
    "    cols_nan = ttn.columns[ttn.isna().any()].tolist()         # columns w/ nan \n",
    "    cols_no_nan = ttn.columns.difference(cols_nan).values     # columns w/n nan\n",
    "\n",
    "    for col in cols_nan:\n",
    "        imp_test = ttn[ttn[col].isna()]   # indicies which have missing data will become our test set\n",
    "        imp_train = ttn.dropna()          # all indicies which which have no missing data \n",
    "        model = KNeighborsRegressor(n_neighbors=5)  # KNR Unsupervised Approach\n",
    "        knr = model.fit(imp_train[cols_no_nan], imp_train[col])\n",
    "        ttn.loc[ttn[col].isna(), col] = knr.predict(imp_test[cols_no_nan])\n",
    "    \n",
    "    return pd.concat([ttn,ttc],axis=1)\n",
    "\n",
    "train_test = impute_knn(train_test)"
   ]
  },
  {
   "cell_type": "markdown",
   "metadata": {},
   "source": [
    "###"
   ]
  },
  {
   "cell_type": "markdown",
   "metadata": {},
   "source": [
    "###"
   ]
  }
 ],
 "metadata": {
  "kernelspec": {
   "display_name": "Python 3.10.5 64-bit",
   "language": "python",
   "name": "python3"
  },
  "language_info": {
   "name": "python",
   "version": "3.10.5"
  },
  "orig_nbformat": 4,
  "vscode": {
   "interpreter": {
    "hash": "cda057ccb0cb91c9ce59470e73901b3641e671a10f07be5ab4825eb80c5cbae8"
   }
  }
 },
 "nbformat": 4,
 "nbformat_minor": 2
}
