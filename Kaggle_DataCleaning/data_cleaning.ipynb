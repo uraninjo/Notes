{
 "cells": [
  {
   "cell_type": "markdown",
   "metadata": {},
   "source": [
    "### **KAGGLE DATA CLEANING**"
   ]
  },
  {
   "cell_type": "markdown",
   "metadata": {},
   "source": [
    "### **Mising Values**\n",
    "\n",
    "Olmayan değerler veya missing values olarak adlandırdığımız veriler ve değerler modelimiz için sorun teşkil etmektedir. Bunun önüne geçmek için olabildiğince bu verileri düzeltmemiz gerekir. Bunu yapmanın farklı yolları vardır. Bunlardan bazıları ortalama almak, belli bir değeri kararlaştırıp girmek veya değer olmayan sıraları atmak olabilir.\n",
    "\n",
    "Kodumuzda verilerin eksik olup olmadığını df.isnull() ile kontrol edebiliriz. (df.isnull().sum())\n",
    "\n",
    "Eksik verilerimizin yoğunluğuna bakarak nereleri kontrol edebileceğimizi anlayabiliriz. Nereye bakacağımızı anladıktan sonra kararlaştıracağımız ilk adım stratejimizi kararlaştırmak. Bunlar üstte saydıklarımdan birisi veya farklı bir strateji olabilir...\n",
    "\n",
    "##### Drop\n",
    "Verileri satır satır silmek her zaman güzel bir strateji olmayabilir. Çünkü bazen veri setlerinin her satırında eksik olabiliyor. Bu tekniği seçtiğimiz takdirde elimizde eğitecek veya kullanacak bir verimiz olmayabilir...\n",
    "\n",
    "##### Fillna\n",
    "Eksik veriler yerine verileri kendi kararımızıla doldurmak her zaman işe yaramayabileceği gibi bazen iyi bir karar da olabilir. Verinin yapısına ve karakterine bağlı olarak vereceğimiz karar her şeyi değiştirebilir.\n",
    "**df.fillna(x)** kodu ile 'x' yerine yazılacak sayı ile boş değerleri doldurabiliriz.\n",
    "**df.fillna(method='bfill',axis=0).fillna(0)** kodu ile eksik olan değerden sonraki değeri referans olarak alıp doldurabiliriz. Aksi durumda '0' ile doldurabiliriz.\n",
    "**x.fillna(value=x.mean())** kodu ile 'x' dataframeinin eksiklerini, dataframein ortalamasıyla doldurabiliriz."
   ]
  },
  {
   "cell_type": "markdown",
   "metadata": {},
   "source": []
  },
  {
   "cell_type": "markdown",
   "metadata": {},
   "source": [
    "### **Scaling and Normalization**\n",
    "\n",
    "Scaling and Normalization olarak yazmamın sebebi aslında bu iki terimin birbirinden farklı olduğudur. \n",
    "\n",
    "Scaling olarak adlandırdığımız terim aslında verinin değer aldığı aralığının(range) değiştirilmesidir.\n",
    "\n",
    "Normalization olarak adlandırdığımız terim ise veri dağılımının şeklini değiştirilmesidir.\n",
    "\n",
    "![](2022-05-05-20-10-57.png)\n",
    "\n",
    "Scaling işlemi, suport vector machine(SVM) ve k-nearest neighbors(KNN) gibi işlemler için önemlidir. Scaling işlemini uygulanmadığı zaman veriden farklı anlamlar çıkartılabiliyor. Mesela eğer 1 dolar 100 yen ise veride 1 dolar 1 yene eşit olarak değerlendirilebilir.\n",
    "\n",
    "![](2022-05-05-20-12-00.png)\n"
   ]
  },
  {
   "cell_type": "markdown",
   "metadata": {},
   "source": []
  },
  {
   "cell_type": "markdown",
   "metadata": {},
   "source": []
  }
 ],
 "metadata": {
  "language_info": {
   "name": "python"
  },
  "orig_nbformat": 4
 },
 "nbformat": 4,
 "nbformat_minor": 2
}
